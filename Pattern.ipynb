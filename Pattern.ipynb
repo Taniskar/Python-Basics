{
 "cells": [
  {
   "cell_type": "code",
   "execution_count": 10,
   "id": "c298439d",
   "metadata": {},
   "outputs": [
    {
     "name": "stdout",
     "output_type": "stream",
     "text": [
      "     *\n",
      "     * *\n",
      "     * * *\n",
      "     * * * *\n",
      "     * * * * *\n"
     ]
    }
   ],
   "source": [
    "n = 5\n",
    "for i in range(1,n+1):\n",
    "    print(\" \"*(n-1) + \" *\"*i)"
   ]
  },
  {
   "cell_type": "code",
   "execution_count": 21,
   "id": "7e95d58e",
   "metadata": {},
   "outputs": [
    {
     "name": "stdout",
     "output_type": "stream",
     "text": [
      "     * \n",
      "    * * \n",
      "   * * * \n",
      "  * * * * \n"
     ]
    }
   ],
   "source": [
    "# rows = 4  # You can adjust this value as needed\n",
    "\n",
    "for i in range(1, 5):\n",
    "    spaces = \" \" * (5 - i)\n",
    "    stars = \"* \" * i\n",
    "    print(spaces,stars)   "
   ]
  },
  {
   "cell_type": "code",
   "execution_count": 22,
   "id": "566502c4",
   "metadata": {},
   "outputs": [
    {
     "name": "stdout",
     "output_type": "stream",
     "text": [
      "  1\n",
      " 1 2\n",
      "1 2 1\n"
     ]
    }
   ],
   "source": [
    "rows = 3  # You can adjust this value as needed\n",
    "\n",
    "for i in range(1, rows + 1):\n",
    "    spaces = \" \" * (rows - i)\n",
    "    numbers = \" \".join(str(j % 2 + 1) for j in range(i))\n",
    "    print(spaces + numbers)"
   ]
  },
  {
   "cell_type": "code",
   "execution_count": 23,
   "id": "9d77d420",
   "metadata": {},
   "outputs": [],
   "source": [
    "#     *     space = 4 star = 1\n",
    "#    * *    space = 3 star = 2\n",
    "#   * * *   space = 2 star = 3\n",
    "#  * * * *   space = 1 star = 4"
   ]
  },
  {
   "cell_type": "code",
   "execution_count": 26,
   "id": "bc43a723",
   "metadata": {},
   "outputs": [],
   "source": [
    "numbers = \" \".join(str(j % 2 + 1) for j in range(1))"
   ]
  },
  {
   "cell_type": "code",
   "execution_count": 27,
   "id": "3ce9a89e",
   "metadata": {},
   "outputs": [
    {
     "data": {
      "text/plain": [
       "'1'"
      ]
     },
     "execution_count": 27,
     "metadata": {},
     "output_type": "execute_result"
    }
   ],
   "source": [
    "numbers"
   ]
  },
  {
   "cell_type": "code",
   "execution_count": 29,
   "id": "2aed310e",
   "metadata": {},
   "outputs": [],
   "source": [
    "import random as r"
   ]
  },
  {
   "cell_type": "code",
   "execution_count": 36,
   "id": "06453ec0",
   "metadata": {},
   "outputs": [],
   "source": [
    "num = r.random()"
   ]
  },
  {
   "cell_type": "code",
   "execution_count": 37,
   "id": "69e360ab",
   "metadata": {},
   "outputs": [
    {
     "data": {
      "text/plain": [
       "0.252336482612077"
      ]
     },
     "execution_count": 37,
     "metadata": {},
     "output_type": "execute_result"
    }
   ],
   "source": [
    "num"
   ]
  },
  {
   "cell_type": "code",
   "execution_count": 44,
   "id": "5408b889",
   "metadata": {},
   "outputs": [
    {
     "data": {
      "text/plain": [
       "2"
      ]
     },
     "execution_count": 44,
     "metadata": {},
     "output_type": "execute_result"
    }
   ],
   "source": [
    "r.randint(1,6)"
   ]
  },
  {
   "cell_type": "code",
   "execution_count": 60,
   "id": "be46c4c8",
   "metadata": {},
   "outputs": [
    {
     "data": {
      "text/plain": [
       "4"
      ]
     },
     "execution_count": 60,
     "metadata": {},
     "output_type": "execute_result"
    }
   ],
   "source": [
    "r.randrange(2, 10, 2)"
   ]
  },
  {
   "cell_type": "code",
   "execution_count": 63,
   "id": "d32709ba",
   "metadata": {},
   "outputs": [
    {
     "data": {
      "text/plain": [
       "40"
      ]
     },
     "execution_count": 63,
     "metadata": {},
     "output_type": "execute_result"
    }
   ],
   "source": [
    "r.choice([10,20,30,40,50,60])"
   ]
  },
  {
   "cell_type": "code",
   "execution_count": 64,
   "id": "6dbda989",
   "metadata": {},
   "outputs": [],
   "source": [
    "l = [10,20,30,40,50,60]"
   ]
  },
  {
   "cell_type": "code",
   "execution_count": 65,
   "id": "7165c97b",
   "metadata": {},
   "outputs": [],
   "source": [
    "r.shuffle(l) "
   ]
  },
  {
   "cell_type": "code",
   "execution_count": 66,
   "id": "c30c67ef",
   "metadata": {},
   "outputs": [
    {
     "data": {
      "text/plain": [
       "[30, 50, 10, 60, 20, 40]"
      ]
     },
     "execution_count": 66,
     "metadata": {},
     "output_type": "execute_result"
    }
   ],
   "source": [
    "l"
   ]
  },
  {
   "cell_type": "code",
   "execution_count": 71,
   "id": "8d9bc10b",
   "metadata": {},
   "outputs": [],
   "source": [
    "l = []\n",
    "n = r.randint(0,1)\n",
    "l.append(n)"
   ]
  },
  {
   "cell_type": "code",
   "execution_count": 72,
   "id": "faefa876",
   "metadata": {},
   "outputs": [
    {
     "data": {
      "text/plain": [
       "1"
      ]
     },
     "execution_count": 72,
     "metadata": {},
     "output_type": "execute_result"
    }
   ],
   "source": [
    "1"
   ]
  },
  {
   "cell_type": "code",
   "execution_count": 73,
   "id": "66eff91b",
   "metadata": {},
   "outputs": [
    {
     "name": "stdout",
     "output_type": "stream",
     "text": [
      "Randomly generated 4x4 matrix:\n",
      "0 1 0 1 0 0 \n",
      "0 1 0 0 1 0 \n",
      "0 1 1 0 0 1 \n",
      "0 1 1 1 0 0 \n",
      "\n",
      "Row with the most number of 1s: 1\n",
      "Column with the most number of 1s: 2\n"
     ]
    }
   ],
   "source": [
    "import random\n",
    "\n",
    "# Create a random 4x4 matrix\n",
    "matrix = []\n",
    "for _ in range(4):\n",
    "    row = [0,1]\n",
    "    for _ in range(4):\n",
    "        row.append(random.choice([0, 1]))\n",
    "    matrix.append(row)\n",
    "\n",
    "# Print the matrix\n",
    "print(\"Randomly generated 4x4 matrix:\")\n",
    "for row in matrix:\n",
    "    for element in row:\n",
    "        print(element, end=\" \")\n",
    "    print()\n",
    "\n",
    "# Find rows and columns with the most number of 1s\n",
    "max_ones_row = max_ones_col = 0\n",
    "max_count_row = max_count_col = 0\n",
    "\n",
    "for i in range(4):\n",
    "    # Count the number of 1s in the current row\n",
    "    count_row = row.count(1)\n",
    "\n",
    "    # Check if the current row has more 1s than the previous maximum\n",
    "    if count_row > max_count_row:\n",
    "        max_count_row = count_row\n",
    "        max_ones_row = i\n",
    "\n",
    "    # Count the number of 1s in the current column\n",
    "    count_col = sum(matrix[j][i] for j in range(4))\n",
    "\n",
    "    # Check if the current column has more 1s than the previous maximum\n",
    "    if count_col > max_count_col:\n",
    "        max_count_col = count_col\n",
    "        max_ones_col = i\n",
    "\n",
    "print(\"\\nRow with the most number of 1s:\", max_ones_row + 1)\n",
    "print(\"Column with the most number of 1s:\", max_ones_col + 1)"
   ]
  },
  {
   "cell_type": "code",
   "execution_count": 74,
   "id": "8cb486e7",
   "metadata": {},
   "outputs": [
    {
     "name": "stdout",
     "output_type": "stream",
     "text": [
      "Fibonacci sequence up to 10 terms: [0, 1, 1, 2, 3, 5, 8, 13, 21, 34]\n"
     ]
    }
   ],
   "source": [
    "def fibonacci(n):\n",
    "    fib_sequence = [0, 1]\n",
    "\n",
    "    while len(fib_sequence) < n:\n",
    "        next_term = fib_sequence[-1] + fib_sequence[-2]\n",
    "        fib_sequence.append(next_term)\n",
    "\n",
    "    return fib_sequence\n",
    "\n",
    "# Specify the number of terms in the Fibonacci sequence\n",
    "num_terms = 10  # You can adjust this value as needed\n",
    "\n",
    "# Call the function to generate the Fibonacci sequence\n",
    "result = fibonacci(num_terms)\n",
    "\n",
    "# Print the Fibonacci sequence\n",
    "print(\"Fibonacci sequence up to\", num_terms, \"terms:\", result)\n"
   ]
  },
  {
   "cell_type": "code",
   "execution_count": 82,
   "id": "8287799f",
   "metadata": {},
   "outputs": [],
   "source": [
    "def fibonacci(n=10):\n"
   ]
  },
  {
   "cell_type": "code",
   "execution_count": 78,
   "id": "75ad4365",
   "metadata": {},
   "outputs": [],
   "source": [
    "n = [1,2]"
   ]
  },
  {
   "cell_type": "code",
   "execution_count": 79,
   "id": "867e5678",
   "metadata": {},
   "outputs": [
    {
     "data": {
      "text/plain": [
       "3"
      ]
     },
     "execution_count": 79,
     "metadata": {},
     "output_type": "execute_result"
    }
   ],
   "source": [
    "n[0] + n[1]"
   ]
  },
  {
   "cell_type": "code",
   "execution_count": 84,
   "id": "81be85df",
   "metadata": {},
   "outputs": [
    {
     "name": "stdout",
     "output_type": "stream",
     "text": [
      "[0, 1, 1, 2, 3, 5, 8, 13, 21, 34]\n"
     ]
    }
   ],
   "source": [
    "fib_sequence = [0, 1]\n",
    "\n",
    "while len(fib_sequence) < 10:\n",
    "    next_term = fib_sequence[-1] + fib_sequence[-2]\n",
    "    fib_sequence.append(next_term)\n",
    "print(fib_sequence)"
   ]
  },
  {
   "cell_type": "code",
   "execution_count": null,
   "id": "48322d4b",
   "metadata": {},
   "outputs": [],
   "source": []
  }
 ],
 "metadata": {
  "kernelspec": {
   "display_name": "Python 3 (ipykernel)",
   "language": "python",
   "name": "python3"
  },
  "language_info": {
   "codemirror_mode": {
    "name": "ipython",
    "version": 3
   },
   "file_extension": ".py",
   "mimetype": "text/x-python",
   "name": "python",
   "nbconvert_exporter": "python",
   "pygments_lexer": "ipython3",
   "version": "3.9.12"
  }
 },
 "nbformat": 4,
 "nbformat_minor": 5
}
